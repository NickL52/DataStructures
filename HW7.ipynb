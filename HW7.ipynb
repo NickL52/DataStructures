{
 "cells": [
  {
   "cell_type": "markdown",
   "id": "9f131d1e-31a4-4204-a7d6-3a8b14a56eb1",
   "metadata": {
    "tags": []
   },
   "source": [
    "# HW 7\n",
    "___"
   ]
  },
  {
   "cell_type": "markdown",
   "id": "71c6ad78-d5b7-4b6f-9659-7508f4c4daa4",
   "metadata": {
    "tags": []
   },
   "source": [
    "### Binary Search Tree\n",
    "The code below defines the class **`BST`** which represents a binary search tree containing **`BSTNode`** objects. A `BST` object has the attribute\n",
    "* `root` which points to the `BSTNode` located at the root of the tree\n",
    "\n",
    "and a `BSTNode` object has the attributes\n",
    "* `key`\n",
    "* `data`\n",
    "* `parent`\n",
    "* `left`\n",
    "* `right`."
   ]
  },
  {
   "cell_type": "code",
   "execution_count": 66,
   "id": "47db3d6b-8991-42ac-b6da-ee74dda0c8a3",
   "metadata": {},
   "outputs": [],
   "source": [
    "class BSTNode:\n",
    "    '''A node in a binary search tree'''\n",
    "    def __init__(self, key, satellite):\n",
    "        self.key = key\n",
    "        self.data = satellite\n",
    "        self.parent = None\n",
    "        self.left = None\n",
    "        self.right = None\n",
    "    def keys(self):\n",
    "        lst = []\n",
    "        def walk(self):\n",
    "            if self != None:\n",
    "                walk(self.left)\n",
    "                lst.append(self.key)\n",
    "                walk(self.right)\n",
    "        walk(self)\n",
    "        return lst\n",
    "    def search(self, key):\n",
    "        if key == self.key:\n",
    "            return BSTNode(key, self.data)\n",
    "        if self.left != None:\n",
    "            return self.left.search(key)\n",
    "        elif self.right != None:\n",
    "            return self.right.search(key)\n",
    "        else:\n",
    "            return None\n",
    "    def min(self):\n",
    "        k = self.key\n",
    "        d = self.data\n",
    "        curr = self\n",
    "        while curr.left != None:\n",
    "            k = curr.left.key\n",
    "            d = curr.left.data\n",
    "            curr = curr.left\n",
    "        return BSTNode(k, d)\n",
    "    def max(self):\n",
    "        k1 = self.key\n",
    "        d1 = self.data\n",
    "        curr = self\n",
    "        while curr.right != None:\n",
    "            k1 = curr.right.key\n",
    "            d1 = curr.right.data\n",
    "            curr = curr.right\n",
    "        return BSTNode(k1, d1)\n",
    "    \n",
    "class BST:\n",
    "    '''Binary search tree containing BSTNodes'''\n",
    "    def __init__(self, node):\n",
    "        self.root = node\n",
    "    def insert(self, node):\n",
    "        prev = None\n",
    "        curr = self.root\n",
    "        while curr != None:\n",
    "            prev = curr\n",
    "            if node.key < curr.key:\n",
    "                curr = curr.left\n",
    "            else:\n",
    "                curr = curr.right\n",
    "        node.parent = prev\n",
    "        if prev == None:\n",
    "            self.root = node\n",
    "        elif node.key < prev.key:\n",
    "            prev.left = node\n",
    "        else:\n",
    "            prev.right = node\n",
    "    def successor(self, node):\n",
    "        if node == None:\n",
    "            node = self.root\n",
    "            while node.left != None:\n",
    "                node = node.left\n",
    "            return node\n",
    "        if node.right is not None:\n",
    "            current = node.right\n",
    "            while (current.left is not None):\n",
    "                current = current.left\n",
    "            return current\n",
    "        succ = None\n",
    "        curNode = self.root\n",
    "        while (curNode):\n",
    "            if (curNode.key < node.key):\n",
    "                curNode = curNode.right\n",
    "            elif (curNode.key > node.key):\n",
    "                succ = curNode\n",
    "                curNode = curNode.left\n",
    "            else:\n",
    "                break\n",
    "        return succ\n",
    "    def delete(self, node):\n",
    "        def swap(self, node1, node2):\n",
    "            if not node1.parent:\n",
    "                self.root = node2\n",
    "            elif node1 == node1.parent.left:\n",
    "                node1.parent.left = node2\n",
    "            else:\n",
    "                node1.parent.right = node2\n",
    "            if node2:\n",
    "                node2.parent = node1.parent\n",
    "        if not node.left:\n",
    "            swap(self,node,node.right)\n",
    "        elif not node.right:\n",
    "            swap(self,node,node.left)\n",
    "        else:\n",
    "            nnode = node.right.min()\n",
    "            if nnode.parent != node:\n",
    "                swap(self,nnode,nnode.right)\n",
    "                nnode.right = node.right\n",
    "                nnode.right.parent = nnode\n",
    "            swap(self,node,nnode)\n",
    "            nnode.left = node.left\n",
    "            nnode.left.parent = nnode"
   ]
  },
  {
   "cell_type": "code",
   "execution_count": 67,
   "id": "098c8456",
   "metadata": {},
   "outputs": [
    {
     "data": {
      "text/plain": [
       "(['buff8039', 'macu1234', 'pyth2022'], 'Marie Curie')"
      ]
     },
     "execution_count": 67,
     "metadata": {},
     "output_type": "execute_result"
    }
   ],
   "source": [
    "ralph = BSTNode('buff8039', 'Ralphie')\n",
    "pyth = BSTNode('pyth2022', 'Guido Von Rossum')\n",
    "marie = BSTNode('macu1234', 'Marie Curie')\n",
    "tree = BST(ralph)\n",
    "tree.insert(pyth)\n",
    "tree.insert(marie)\n",
    "(tree.root.keys(), pyth.search('macu1234').data)"
   ]
  },
  {
   "cell_type": "markdown",
   "id": "6ad74b2c-3c81-4d7c-813a-93f0c0f4a9bb",
   "metadata": {},
   "source": [
    "Add these `BSTNode` methods:\n",
    "* **`keys()`** returns a list of the keys in the BST (or subtree) in order starting with the given node. (Do not call a sort routine.)\n",
    "* **`search(key)`** returns the node corresponding to `key` or returns `None` if `key` is not found. The search begins with the given node and extends to its subtree.\n"
   ]
  },
  {
   "cell_type": "markdown",
   "id": "d0994263-03f5-417e-9454-08e1c63adc0d",
   "metadata": {},
   "source": [
    "Add this `BST` method:\n",
    "* **`insert(node)`** inserts a new `BSTNode` into the tree in an appropriate position. No value is returned.\n",
    "\n",
    "Example:<br>\n",
    "```\n",
    "ralph = BSTNode('buff8039', 'Ralphie')\n",
    "pyth = BSTNode('pyth2022', 'Guido Von Rossum')\n",
    "marie = BSTNode('macu1234', 'Marie Curie')\n",
    "\n",
    "tree = BST(ralph)\n",
    "tree.insert(pyth)\n",
    "tree.insert(marie)\n",
    "tree.root.keys(), pyth.search('macu1234').data\n",
    "```\n",
    "returns\n",
    "```\n",
    "(['buff8039', 'macu1234', 'pyth2022'], 'Marie Curie')\n",
    "```\n"
   ]
  },
  {
   "cell_type": "code",
   "execution_count": 28,
   "id": "f1d6b36f",
   "metadata": {},
   "outputs": [
    {
     "data": {
      "text/plain": [
       "'buff8039'"
      ]
     },
     "execution_count": 28,
     "metadata": {},
     "output_type": "execute_result"
    }
   ],
   "source": [
    "tree.root.min().key"
   ]
  },
  {
   "cell_type": "markdown",
   "id": "58c9acb9-37b0-4cdb-a81d-79d46882494f",
   "metadata": {},
   "source": [
    "Add these `BSTNode` methods:\n",
    "* **`min()`** returns the node corresponding to the smallest key in the tree or subtree. The given node is the root.\n",
    "* **`max()`** returns the node corresponding to the largest key in the tree or subtree. The given node is the root.\n",
    "\n",
    "Add these `BST` methods:\n",
    "* **`successor(node)`** returns the successor to the given node.\n",
    "* **`delete(node)`** deletes a given node from a tree and updates the tree appropriately. No value is returned.\n",
    "  * If the node has no children, the node is deleted.\n",
    "  * If the node has one child, that child replaces the node.\n",
    "  * If the node has two children, the node's successor replaces it.\n"
   ]
  },
  {
   "cell_type": "code",
   "execution_count": null,
   "id": "009839ea-4920-4f04-b05b-a9f49bbb6f80",
   "metadata": {},
   "outputs": [],
   "source": []
  }
 ],
 "metadata": {
  "kernelspec": {
   "display_name": "Python 3",
   "language": "python",
   "name": "python3"
  },
  "language_info": {
   "codemirror_mode": {
    "name": "ipython",
    "version": 3
   },
   "file_extension": ".py",
   "mimetype": "text/x-python",
   "name": "python",
   "nbconvert_exporter": "python",
   "pygments_lexer": "ipython3",
   "version": "3.8.8"
  }
 },
 "nbformat": 4,
 "nbformat_minor": 5
}
