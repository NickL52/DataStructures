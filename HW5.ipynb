{
 "cells": [
  {
   "cell_type": "markdown",
   "id": "1e3b8305-f7d1-4151-a20f-19f88601e58c",
   "metadata": {
    "tags": []
   },
   "source": [
    "# HW 5\n",
    "___"
   ]
  },
  {
   "cell_type": "code",
   "execution_count": 18,
   "id": "0577014e-c8fa-4d4c-aa5e-960a11453c4e",
   "metadata": {},
   "outputs": [],
   "source": [
    "import random\n",
    "import numpy as np\n",
    "import operator\n",
    "import matplotlib.pyplot as plt\n",
    "import math\n",
    "\n",
    "import matplotlib.animation as anim\n",
    "from IPython.display import HTML\n",
    "plt.rcParams[\"animation.html\"] = \"jshtml\"\n",
    "\n",
    "# Optional: add this code after `anim_fig = anim.FuncAnimation(...)`\n",
    "#           to eliminate the extra final frame\n",
    "# display(HTML(anim_fig.to_jshtml()))\n",
    "# plt.close() "
   ]
  },
  {
   "cell_type": "markdown",
   "id": "8135a212-ec10-480f-b0c1-5b456526205a",
   "metadata": {},
   "source": [
    "### Postfix Notation"
   ]
  },
  {
   "cell_type": "markdown",
   "id": "637cd3d0-b9e7-40f5-b3cd-0bf032cd0852",
   "metadata": {},
   "source": [
    "In *postfix notation* (also called *reverse Polish notation*), mathematical expressions are written with the operators following the operands (numbers). Postfix notation has these advantages over the standard infix notation:\n",
    "* It eliminates the need for parentheses and operator precedence rules.\n",
    "* It can be evaluated easily using a stack.\n",
    "\n",
    "Below are examples of expressions written in infix and postfix notation. When converting from infix to postfix, the numbers remain in the same order but the operators are moved so that they immediately follow their operands.\n",
    "\n",
    "|Infix|Postfix|  \n",
    "|:--|:--|  \n",
    "|`4 - 7`|`4 7 -`|  \n",
    "|`4 - (7 + 5)` | `4 7 5 + -` |  \n",
    "|`(7 - 5) * (4 + 10)`|`7 5 - 4 10 + *`|  \n",
    "|`(45 - 7 * 5 + 3)`|`45 7 5 * - 3 +`|  \n",
    "\n",
    "Here is how postfix expressions are evaluated. The operators are processed one at a time, beginning with the leftmost operator and moving right. Each operator is applied to the previous two values. The result may be used by the next operator.\n",
    "\n",
    "|Postfix|Evaluation| |Value|  \n",
    "|:--|:--|:--|:--|  \n",
    "|`4 7 -`| | |`-3`|  \n",
    "|`4 7 5 + -`|`4 12 -` | |`-8`|   \n",
    "|`7 5 - 4 10 + *`|`2 14 *` | |`28`|  \n",
    "|`45 7 5 * - 3 +`|`45 35 - 3 +` | `10 3 +` | `13`|\n",
    "\n",
    "\n",
    "\n",
    "\n"
   ]
  },
  {
   "cell_type": "markdown",
   "id": "f0852d80-08a0-418e-904c-7bf23df5011f",
   "metadata": {},
   "source": [
    "**Convert these infix expressions to postfix** by hand, observing the standard operator precedence rules. Write your answers in the form of a string with spaces separating the numbers and operators."
   ]
  },
  {
   "cell_type": "code",
   "execution_count": 2,
   "id": "e05130da-4f81-4e0c-8407-abe234abd0e0",
   "metadata": {},
   "outputs": [],
   "source": [
    "infix1 = '10 - 6 + 3 * 8'\n",
    "infix2 = '10 - (6 + 3 - 8)'\n",
    "infix3 = '10 - (6 + 3) * 8'"
   ]
  },
  {
   "cell_type": "code",
   "execution_count": 3,
   "id": "637db554-816b-44fc-b519-98e6b1a5e48e",
   "metadata": {},
   "outputs": [],
   "source": [
    "postfix1 = '10 6 - 3 8 * +'\n",
    "postfix2 = '10 6 3 + 8 - -'\n",
    "postfix3 = '10 6 3 + 8 * -'"
   ]
  },
  {
   "cell_type": "markdown",
   "id": "8bff1c20-1cf4-46a0-b47d-a0a177a69c7b",
   "metadata": {},
   "source": [
    "**Determine the numerical values of these postfix expressions** by hand."
   ]
  },
  {
   "cell_type": "code",
   "execution_count": 4,
   "id": "7f733fd3-f38d-4064-a455-e0ae595b2746",
   "metadata": {},
   "outputs": [],
   "source": [
    "postfix4 = '10 6 3 8 + - +'\n",
    "postfix5 = '10 6 3 / + 8 *'\n",
    "postfix6 = '10 6 * 3 + 8 -'"
   ]
  },
  {
   "cell_type": "code",
   "execution_count": 5,
   "id": "5266df2f-3706-491d-a966-9452bf625201",
   "metadata": {},
   "outputs": [],
   "source": [
    "postfix4_value = 5\n",
    "postfix5_value = 96\n",
    "postfix6_value = 55"
   ]
  },
  {
   "cell_type": "markdown",
   "id": "5d6d24f4-ee40-45c8-998a-a24503c84255",
   "metadata": {},
   "source": [
    "### Postfix Evaluator\n",
    "Write a function **`eval_postfix(expr)`** that takes a postfix expression in string format, evaluates it, and returns its numerical value. The possible operators are `+`, `-`, `*`, and `/`. Assume that all numbers are non-negative integers. You may assume that `expr` is a valid postfix expression with spaces separating the numbers and operators.\n",
    "\n",
    "The function should use the `Stack` class defined below to process `expr` as follows:\n",
    "* Each number in the string should be pushed onto a stack.\n",
    "* Each operator in the string should be applied to the top two numbers on the stack. The result of the operation should be pushed onto the stack.\n",
    "\n",
    "*Hint:* You may wish to make use of these functions from the `operator` module: `operator.add`, `operator.sub`, `operator.mul`, and `operator.truediv`. When applied to two arguments, they return the same values as `+`, `-`, `*`, and `/`, respectively.\n",
    "\n",
    "Example:<br>\n",
    "`eval_postfix('4 7 5 + -')` returns `-8`<br>\n",
    "`operator.add(7, 5)` returns `12`"
   ]
  },
  {
   "cell_type": "code",
   "execution_count": 6,
   "id": "bd461eb1",
   "metadata": {},
   "outputs": [],
   "source": [
    "class Stack:\n",
    "    def __init__(self):\n",
    "        self.items = []\n",
    "        \n",
    "    def push(self, item):\n",
    "        self.items.append(item)\n",
    "        \n",
    "    def pop(self):\n",
    "        try:\n",
    "            return self.items.pop()\n",
    "        except:\n",
    "            print('ERROR: stack is empty, cannot pop')\n",
    "            return None\n",
    "        \n",
    "    def size(self):\n",
    "        return len(self.items)\n",
    "        \n",
    "    def peek(self):\n",
    "        try:\n",
    "            return self.items[-1]\n",
    "        except:\n",
    "            print('ERROR: stack is empty, cannot peek')\n",
    "            return None\n",
    "    \n",
    "    def empty(self):\n",
    "        return not self.items"
   ]
  },
  {
   "cell_type": "code",
   "execution_count": 7,
   "id": "71e628d6",
   "metadata": {},
   "outputs": [],
   "source": [
    "def eval_postfix(expr):\n",
    "    expr = expr + ' '\n",
    "    count = 0\n",
    "    S = Stack()\n",
    "    for i in range(len(expr) - 1):\n",
    "        if expr[i + 1] == ' ':\n",
    "            if expr[i] != '+' and expr[i] != '-' and expr[i] != '*' and expr[i] != '/':\n",
    "                S.push(int(expr[count:i + 1]))\n",
    "                count = i + 2\n",
    "            elif expr[i] == '+':\n",
    "                S.push(S.pop() + S.pop())\n",
    "                count = i + 2\n",
    "            elif expr[i] == '-':\n",
    "                S.push(-1*S.pop() + S.pop())\n",
    "                count = i + 2\n",
    "            elif expr[i] == '*':\n",
    "                S.push(S.pop() * S.pop())\n",
    "                count = i + 2\n",
    "            elif expr[i] == '/':\n",
    "                S.push((1/S.pop()) * S.pop())\n",
    "                count = i + 2\n",
    "    return S.pop()"
   ]
  },
  {
   "cell_type": "code",
   "execution_count": 8,
   "id": "4f776c68",
   "metadata": {},
   "outputs": [
    {
     "data": {
      "text/plain": [
       "-8"
      ]
     },
     "execution_count": 8,
     "metadata": {},
     "output_type": "execute_result"
    }
   ],
   "source": [
    "eval_postfix(('4 7 5 + -'))"
   ]
  },
  {
   "cell_type": "markdown",
   "id": "12771235-6e19-49e2-bb27-86fa4ccbc143",
   "metadata": {},
   "source": [
    "___\n",
    "\n",
    "### Animating Text\n",
    "\n",
    "Write a function **`anim_text(word, ct=50)`** that returns an animation, repeatedly displaying a given `word`, each time at a random (x, y) location, rotated at a random angle,  for a total of `ct` times. Use multiple colors. \n",
    "\n",
    "A sample result for `anim_text('python')` is shown here: http://www.coloradomath.org/python/random_text.gif.\n",
    "\n",
    "<img src=\"http://www.coloradomath.org/python/random_text.jpg\" width=\"314\" height=\"310\" />"
   ]
  },
  {
   "cell_type": "code",
   "execution_count": 30,
   "id": "b56b8ea8",
   "metadata": {},
   "outputs": [],
   "source": [
    "def anim_text(word, ct=50):\n",
    "    fig, ax = plt.subplots()\n",
    "\n",
    "    ax.set_aspect('equal')\n",
    "    ax.axis('off')\n",
    "    ax.set_xlim(0, 10)\n",
    "    ax.set_ylim(0, 10)\n",
    "    \n",
    "    colors = ['navy','r','g','c','m','y','orange','brown']\n",
    "\n",
    "    def animate(val):\n",
    "        if val !=0:\n",
    "            ax.text(10*random.random(), 10*random.random(), word, rotation=360*random.random(), color=colors[val%8])\n",
    "\n",
    "    anim_fig = anim.FuncAnimation(fig, animate, \n",
    "                       frames=ct+1, \n",
    "                       interval=10*(ct+1))\n",
    "\n",
    "    # this code will eliminate the extra final frame\n",
    "    #display(HTML(anim_fig.to_jshtml()))\n",
    "    #plt.close() "
   ]
  },
  {
   "cell_type": "markdown",
   "id": "4cd7bdee-3f55-42f5-8223-9ad20aab1daf",
   "metadata": {},
   "source": [
    "### A Parametric Curve\n",
    "First **plot the parametric curve**\n",
    "$$x=\\sin(t) + \\tfrac 12 \\cos(5t) + \\tfrac 14\\sin(13t),$$\n",
    "$$y=\\cos(t) + \\tfrac 12\\sin(5t) + \\tfrac 14\\cos(13t)$$\n",
    "for $0\\le t \\le 2\\pi$. (*Hint:* Use at least 200 points.)\n",
    "\n",
    "Then **use animation to gradually display the curve** from $t=0$ to $2\\pi$."
   ]
  },
  {
   "cell_type": "code",
   "execution_count": 11,
   "id": "cf87f771-fb41-4cfa-b34c-272be806f86a",
   "metadata": {},
   "outputs": [
    {
     "data": {
      "image/png": "[encoded data removed]",
      "text/plain": [
       "<Figure size 432x288 with 1 Axes>"
      ]
     },
     "metadata": {
      "needs_background": "light"
     },
     "output_type": "display_data"
    }
   ],
   "source": [
    "t = np.linspace(0,2*math.pi,200)\n",
    "x = np.zeros((len(t),1))\n",
    "y = np.zeros((len(t),1))\n",
    "for i in range(len(t)):\n",
    "    x[i] = math.sin(t[i]) + 0.5*math.cos(5*t[i]) + 0.25*math.sin(13*t[i])\n",
    "    y[i] = math.cos(t[i]) + 0.5*math.sin(5*t[i]) + 0.25*math.cos(13*t[i])\n",
    "plt.plot(x,y)\n",
    "plt.show()"
   ]
  },
  {
   "cell_type": "code",
   "execution_count": 32,
   "id": "5dd4b96b-ec9a-43b3-852c-daf084ecba0f",
   "metadata": {},
   "outputs": [
    {
     "data": {
      "image/png": "[encoded data removed]",
      "text/plain": [
       "<Figure size 432x288 with 1 Axes>"
      ]
     },
     "metadata": {
      "needs_background": "light"
     },
     "output_type": "display_data"
    }
   ],
   "source": [
    "fig, ax = plt.subplots()\n",
    "xvals, yvals = [], []\n",
    "line, = ax.plot([], [], 'b')\n",
    "ax.set_xlim(-1.75, 1.75)\n",
    "ax.set_ylim(-1.75, 1.75)\n",
    "\n",
    "def animate(fval):\n",
    "    xvals.append(math.sin(fval) + 0.5*math.cos(5*fval) + 0.25*math.sin(13*fval))\n",
    "    yvals.append(math.cos(fval) + 0.5*math.sin(5*fval) + 0.25*math.cos(13*fval))\n",
    "    line.set_data(xvals, yvals)\n",
    "    return line,\n",
    "\n",
    "anim_fig = anim.FuncAnimation(fig, animate, \n",
    "                   frames=np.linspace(0, 2*math.pi, 200),\n",
    "                   interval=150)\n",
    "\n",
    "#display(HTML(anim_fig.to_jshtml()))\n",
    "#plt.close()"
   ]
  },
  {
   "cell_type": "markdown",
   "id": "9dc69d34-bc80-40e9-a9a4-74f33fc893d4",
   "metadata": {},
   "source": [
    "### Rotating Circles\n",
    "Write a function **`rotating_circles(n)`** that returns an animation showing `n` circles moving along a circular path. A sample result with `n=15` circles is shown here: http://www.coloradomath.org/python/rotating_circles.gif\n",
    "\n",
    "<img src=\"http://www.coloradomath.org/python/rotating_circles.jpg\" width=\"600\" height=\"400\" />"
   ]
  },
  {
   "cell_type": "code",
   "execution_count": 29,
   "id": "5d73b7e5",
   "metadata": {},
   "outputs": [],
   "source": [
    "def rotating_circles(n):\n",
    "    def animate(fval):\n",
    "        for j in line,:\n",
    "            line.set_data(math.cos(fval), math.sin(fval))\n",
    "            return line,\n",
    "    \n",
    "    tvals = np.linspace(0,2*math.pi,n + 1)\n",
    "    xvals = np.zeros((n + 1,1))\n",
    "    yvals = np.zeros((n + 1,1))\n",
    "    for i in range(len(tvals)):\n",
    "        xvals[i] = math.cos(tvals[i])\n",
    "        yvals[i] = math.sin(tvals[i])\n",
    "    fig = plt.figure()\n",
    "    ax = plt.axes(xlim=(-1.25, 1.25), ylim=(-1.25, 1.25))\n",
    "    for i in range(n + 1):\n",
    "        line, = ax.plot(xvals[i], yvals[i], marker='o', ms=25)\n",
    "        anim_fig = anim.FuncAnimation(fig, animate, frames=np.linspace(0,2*math.pi,100), interval=200)\n",
    "\n",
    "    ax.set_aspect('equal')\n",
    "\n",
    "    #display(HTML(anim_fig.to_jshtml()))\n",
    "    #plt.close()"
   ]
  },
  {
   "cell_type": "code",
   "execution_count": null,
   "id": "46e721cf",
   "metadata": {},
   "outputs": [],
   "source": []
  }
 ],
 "metadata": {
  "kernelspec": {
   "display_name": "Python 3",
   "language": "python",
   "name": "python3"
  },
  "language_info": {
   "codemirror_mode": {
    "name": "ipython",
    "version": 3
   },
   "file_extension": ".py",
   "mimetype": "text/x-python",
   "name": "python",
   "nbconvert_exporter": "python",
   "pygments_lexer": "ipython3",
   "version": "3.8.8"
  }
 },
 "nbformat": 4,
 "nbformat_minor": 5
}
