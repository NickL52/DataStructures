{
 "cells": [
  {
   "cell_type": "markdown",
   "id": "ece8fe33-806f-498d-82dd-1364d7547cc4",
   "metadata": {
    "tags": []
   },
   "source": [
    "# HW 8\n",
    "\n",
    "___"
   ]
  },
  {
   "cell_type": "code",
   "execution_count": 1,
   "id": "25425c85-b7b4-4626-87be-bef6748173d0",
   "metadata": {},
   "outputs": [],
   "source": [
    "import math\n",
    "import random\n",
    "import numpy as np\n",
    "import matplotlib.pyplot as plt\n",
    "import matplotlib.animation as anim\n",
    "from IPython.display import HTML, display\n",
    "plt.rcParams[\"animation.html\"] = \"jshtml\"\n",
    "plt.rcParams['figure.dpi'] = 150  \n",
    "\n",
    "# Optional: add this code after `anim_fig = anim.FuncAnimation(...)`\n",
    "#           to eliminate the extra final frame\n",
    "# display(HTML(anim_fig.to_jshtml()))\n",
    "# plt.close() "
   ]
  },
  {
   "cell_type": "markdown",
   "id": "5f54c07c-5125-4d6d-aa9a-e13a7da7694a",
   "metadata": {},
   "source": [
    "### Build a Max Heap\n",
    "Write a function **`build_max_heap(arr)`** that takes an array (or list) of numbers and re-arranges the elements to satisfy the max heap property. For example,\n",
    "```\n",
    "nums = [4, 1, 3, 2, 16, 9, 10, 14, 8, 7]\n",
    "build_max_heap(nums)\n",
    "nums\n",
    "```\n",
    "returns `[16, 14, 10, 8, 7, 9, 3, 2, 4, 1]`.\n"
   ]
  },
  {
   "cell_type": "code",
   "execution_count": 41,
   "id": "189f1976",
   "metadata": {},
   "outputs": [],
   "source": [
    "def max_heapify(arr,i):\n",
    "    L = 2*i + 1\n",
    "    R = 2*i + 2\n",
    "    length = len(arr)\n",
    "    lar = i\n",
    "    if length > L and arr[lar] < arr[L]:\n",
    "        lar = L\n",
    "    if length > R and arr[lar] < arr[R]:\n",
    "        lar = R\n",
    "    if arr[lar] > arr[i]:\n",
    "        dum = arr[lar]\n",
    "        arr[lar] = arr[i]\n",
    "        arr[i] = dum\n",
    "        max_heapify(arr,lar)\n",
    "\n",
    "def build_max_heap(arr):\n",
    "    n = len(arr)\n",
    "    for i in reversed(range(n//2)):\n",
    "        max_heapify(arr,i)"
   ]
  },
  {
   "cell_type": "code",
   "execution_count": 42,
   "id": "603e02e3",
   "metadata": {},
   "outputs": [
    {
     "data": {
      "text/plain": [
       "[16, 14, 10, 8, 7, 9, 3, 2, 4, 1]"
      ]
     },
     "execution_count": 42,
     "metadata": {},
     "output_type": "execute_result"
    }
   ],
   "source": [
    "nums = [4, 1, 3, 2, 16, 9, 10, 14, 8, 7]\n",
    "build_max_heap(nums)\n",
    "nums"
   ]
  },
  {
   "cell_type": "markdown",
   "id": "f99152ab-ef17-4327-87a9-b2378b6bdabf",
   "metadata": {},
   "source": [
    "### Plot a Heap\n",
    "Write a function **`plot_heap(arr)`** that displays the heap corresponding to an array or list of numbers. Below is a sample result for a list of 12 numbers. You may assume that the maximum list size is 31 and that the numbers are positive integers less than 100. It is not necessary to exactly match the appearance of the example below.\n",
    "\n",
    "*Hint:* You may use the `heap_node_xy_coord()` helper function defined below, which returns  $(x, y)$ coordinates for any heap node by index (starting with $0$). The nodes will be assigned a $y$-coordinate of $1, 2, \\ldots$, starting with the lowest level of the heap. The $x$-coordinates for the nodes will be symmetrical about $x=0$ with gaps starting $1$ unit apart at the lowest level.\n",
    "\n",
    "<img src=\"http://www.coloradomath.org/python/plot-heap.jpg\" width=\"518\" height=\"346\" />"
   ]
  },
  {
   "cell_type": "code",
   "execution_count": 43,
   "id": "e64cdcdc-707d-4528-8df0-73dd002b3676",
   "metadata": {},
   "outputs": [],
   "source": [
    "def heap_node_xy_coord(index, arrsize):\n",
    "    '''Return heap (x,y) coordinates for an index of an array or list.\n",
    "       Indices begin with 0. The y-coordinates begin with 1 at the lowest\n",
    "       level of the heap. The x-coordinates are symmetric about x=0 with \n",
    "       gaps starting 1 unit apart at the lowest level.'''\n",
    "    \n",
    "    heap_height = math.ceil(math.log2(arrsize + 1))\n",
    "    node_level = math.floor(math.log2(index + 1))\n",
    "    ycoord = heap_height - node_level\n",
    "\n",
    "    xgap = 2 ** ycoord\n",
    "    max_nodes_level = 2 ** node_level\n",
    "    nodes_above = max_nodes_level - 1\n",
    "    xstart = - xgap * (max_nodes_level-1) / 2\n",
    "    xcoord = xstart + xgap * (index - nodes_above)\n",
    "\n",
    "    return xcoord, ycoord"
   ]
  },
  {
   "cell_type": "code",
   "execution_count": 200,
   "id": "c8fb36f2-0af1-4c15-a059-5e1b209a55ac",
   "metadata": {},
   "outputs": [],
   "source": [
    "def plot_heap(arr):\n",
    "    for j in range(len(arr)):\n",
    "        x, y = heap_node_xy_coord(j,len(arr))\n",
    "        if j != 0:\n",
    "            if j == 1:\n",
    "                plt.plot((x,0),(y,y + 1),color='lightseagreen')\n",
    "            elif j == 2:\n",
    "                plt.plot((x,0),(y,y + 1),color='lightseagreen')\n",
    "            elif j % 2 == 1:\n",
    "                nx, ny = heap_node_xy_coord(j + 1,len(arr))\n",
    "                xavg = (x + nx)/2\n",
    "                plt.plot((x,xavg),(y,y + 1),color='lightseagreen')\n",
    "            else:\n",
    "                px, py = heap_node_xy_coord(j - 1,len(arr))\n",
    "                xavg = (x + px)/2\n",
    "                plt.plot((x,xavg),(y,y + 1),color='lightseagreen')\n",
    "    for i in range(len(arr)):\n",
    "        x, y = heap_node_xy_coord(i,len(arr))\n",
    "        plt.plot(x,y,'.',markersize=30)\n",
    "        if len(arr) > 0 and len(arr) < 4:\n",
    "            fac = 0.15\n",
    "        elif len(arr) > 3 and len(arr) < 8:\n",
    "            fac = 0.4\n",
    "        elif len(arr) > 7 and len(arr) < 16:\n",
    "            fac = 1\n",
    "        else:\n",
    "            fac = 2\n",
    "        if len(str(arr[i])) == 1:\n",
    "            xshift = 0.125*fac\n",
    "        else:\n",
    "            xshift = 0.25*fac\n",
    "        plt.text(x - xshift,y - 0.05*fac,arr[i])\n",
    "    plt.axis('off')\n",
    "    plt.show()"
   ]
  },
  {
   "cell_type": "code",
   "execution_count": 201,
   "id": "0ce85261",
   "metadata": {},
   "outputs": [
    {
     "data": {
      "image/png": "[encoded data removed]",
      "text/plain": [
       "<Figure size 900x600 with 1 Axes>"
      ]
     },
     "metadata": {
      "needs_background": "light"
     },
     "output_type": "display_data"
    }
   ],
   "source": [
    "plot_heap(nums)"
   ]
  },
  {
   "cell_type": "markdown",
   "id": "7f3029e2-705d-4014-b0f8-85600481b7c9",
   "metadata": {},
   "source": [
    "### Animate Building a Max Heap\n",
    "**Animate** the `build_max_heap()` process by highlighting each internal node in its original position, then its relocated position(s). You may assume that 31 is the maximum list size and that the numbers are positive integers less than 100. A sample result is shown here (http://www.coloradomath.org/python/build_max_heap.gif) which simulates the example shown below from page 158 in the textbook.\n",
    "\n",
    "<img src=\"http://www.coloradomath.org/python/build-max-heap.jpg\" width=\"544\" height=\"626\" />\n"
   ]
  },
  {
   "cell_type": "code",
   "execution_count": null,
   "id": "0d3952ac-d7bc-4110-bafc-660eb5f11cc7",
   "metadata": {},
   "outputs": [],
   "source": []
  }
 ],
 "metadata": {
  "kernelspec": {
   "display_name": "Python 3",
   "language": "python",
   "name": "python3"
  },
  "language_info": {
   "codemirror_mode": {
    "name": "ipython",
    "version": 3
   },
   "file_extension": ".py",
   "mimetype": "text/x-python",
   "name": "python",
   "nbconvert_exporter": "python",
   "pygments_lexer": "ipython3",
   "version": "3.8.8"
  }
 },
 "nbformat": 4,
 "nbformat_minor": 5
}
