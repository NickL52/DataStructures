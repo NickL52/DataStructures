{
 "cells": [
  {
   "cell_type": "markdown",
   "id": "1e0d0a59-2b6e-452c-aea5-86379787569c",
   "metadata": {
    "tags": []
   },
   "source": [
    "# HW 9\n",
    "___"
   ]
  },
  {
   "cell_type": "code",
   "execution_count": 1,
   "id": "4b95265f-c338-469c-9a4b-9d8f4d5a3ef9",
   "metadata": {},
   "outputs": [],
   "source": [
    "import numpy as np"
   ]
  },
  {
   "cell_type": "markdown",
   "id": "33ad2c74-ffe3-40c8-863e-603f4e1912d2",
   "metadata": {},
   "source": [
    "### Spelling Correction\n",
    "Suppose you type `blder` into a search engine. It will try to match your entry to common search terms. Perhaps you actually meant to type `boulder` or `bold` or `baller`. The search engine might guess the word you intended by calculating the fewest number of changes needed to convert your entry into a common search term. It can then ask 'Did you mean ...?'. For example, the calculations would find that\n",
    "\n",
    "* To convert `blder` into `boulder`, one can insert `o` and `u`, a total of 2 changes.\n",
    "* To convert `blder` into `bold`, one can insert `o` and omit `e` and `r`, a total of 3 changes.\n",
    "* To convert `blder` into `baller`, one can insert `a`, replace `d` with `l`, a total of 2 changes.\n",
    "\n",
    "Use dynamic programming to write a function **`string_convert(str1, str2)`** that takes two strings `str1` and `str2` and returns the minimum number of changes needed to convert `str1` to `str2` using the following operations:\n",
    "* **insert** which adds a character from `str2` to `str1`\n",
    "* **omit** which omits a character from `str1`\n",
    "* **replace** which replaces a character in `str1` with a character in `str2`\n",
    "* **`match`** which does not entail any changes. \n",
    "\n",
    "The function also should print the operations that correspond to the minimum number of changes.\n",
    "\n",
    "Example:<br>\n",
    "`string_convert('bffflooo', 'buffalo')` might print\n",
    "```\n",
    "match   b\n",
    "replace u\n",
    "match   f\n",
    "match   f\n",
    "insert  a\n",
    "match   l\n",
    "match   o\n",
    "omit    o\n",
    "omit    o\n",
    "```\n",
    "and return `4`. There are other solutions with 4 moves."
   ]
  },
  {
   "cell_type": "code",
   "execution_count": 648,
   "id": "b9c49746",
   "metadata": {},
   "outputs": [],
   "source": [
    "def string_convert(str1, str2):\n",
    "    m = len(str1)\n",
    "    n = len(str2)\n",
    "    mat = [[0 for i in range(n + 1)] for i in range(m + 1)]\n",
    "    for j in range(m + 1):\n",
    "        for k in range(n + 1):\n",
    "            if j == 0:\n",
    "                mat[j][k] = k\n",
    "            elif k == 0:\n",
    "                mat[j][k] = j\n",
    "            elif str1[j - 1] == str2[k - 1]:\n",
    "                mat[j][k] = mat[j - 1][k - 1]\n",
    "                if j == k:\n",
    "                    print(f\"match    {str2[k - 1]}\")\n",
    "            else:\n",
    "                minimum = min(mat[j][k - 1],mat[j - 1][k],mat[j - 1][k - 1])\n",
    "                mat[j][k] = 1 + minimum\n",
    "                if minimum == mat[j][k - 1] and j == k:\n",
    "                    print(f\"insert   {str2[k - 1]}\")\n",
    "                elif minimum == mat[j - 1][k] and j == k:\n",
    "                    print(f\"omit     {str1[j - 1]}\")\n",
    "                elif j == k:\n",
    "                    print(f\"replace  {str2[k - 1]}\")\n",
    "    return mat[m][n]"
   ]
  },
  {
   "cell_type": "code",
   "execution_count": 649,
   "id": "c84feea5",
   "metadata": {},
   "outputs": [
    {
     "name": "stdout",
     "output_type": "stream",
     "text": [
      "match    b\n",
      "replace  u\n",
      "match    f\n",
      "match    f\n",
      "replace  a\n",
      "omit     o\n",
      "match    o\n"
     ]
    },
    {
     "data": {
      "text/plain": [
       "4"
      ]
     },
     "execution_count": 649,
     "metadata": {},
     "output_type": "execute_result"
    }
   ],
   "source": [
    "string_convert('bffflooo','buffalo')"
   ]
  },
  {
   "cell_type": "code",
   "execution_count": 650,
   "id": "4ec5c26d",
   "metadata": {},
   "outputs": [
    {
     "name": "stdout",
     "output_type": "stream",
     "text": [
      "match    a\n",
      "match    l\n",
      "replace  t\n",
      "replace  r\n",
      "insert   u\n",
      "match    i\n",
      "replace  s\n",
      "omit     h\n",
      "omit     m\n"
     ]
    },
    {
     "data": {
      "text/plain": [
       "6"
      ]
     },
     "execution_count": 650,
     "metadata": {},
     "output_type": "execute_result"
    }
   ],
   "source": [
    "string_convert('algorithm', 'altruistic')"
   ]
  },
  {
   "cell_type": "code",
   "execution_count": 651,
   "id": "6351231e",
   "metadata": {},
   "outputs": [
    {
     "name": "stdout",
     "output_type": "stream",
     "text": [
      "replace  G\n",
      "replace  T\n",
      "match    C\n",
      "match    G\n",
      "replace  T\n",
      "match    T\n",
      "match    C\n",
      "match    G\n",
      "replace  G\n",
      "insert   A\n",
      "insert   A\n",
      "omit     G\n",
      "omit     C\n",
      "omit     G\n",
      "match    C\n",
      "match    G\n",
      "replace  T\n",
      "replace  T\n",
      "replace  G\n",
      "insert   C\n",
      "insert   T\n",
      "match    C\n",
      "replace  T\n",
      "match    G\n",
      "replace  T\n",
      "replace  A\n",
      "replace  A\n",
      "match    A\n"
     ]
    },
    {
     "data": {
      "text/plain": [
       "14"
      ]
     },
     "execution_count": 651,
     "metadata": {},
     "output_type": "execute_result"
    }
   ],
   "source": [
    "string_convert('ACCGGTCGAGTGCGCGGAAGCCGGCCGAA', 'GTCGTTCGGAATGCCGTTGCTCTGTAAA')"
   ]
  },
  {
   "cell_type": "code",
   "execution_count": null,
   "id": "845da01d",
   "metadata": {},
   "outputs": [],
   "source": []
  }
 ],
 "metadata": {
  "kernelspec": {
   "display_name": "Python 3",
   "language": "python",
   "name": "python3"
  },
  "language_info": {
   "codemirror_mode": {
    "name": "ipython",
    "version": 3
   },
   "file_extension": ".py",
   "mimetype": "text/x-python",
   "name": "python",
   "nbconvert_exporter": "python",
   "pygments_lexer": "ipython3",
   "version": "3.8.8"
  }
 },
 "nbformat": 4,
 "nbformat_minor": 5
}
