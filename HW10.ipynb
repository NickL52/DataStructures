{
 "cells": [
  {
   "cell_type": "markdown",
   "id": "903077ab-ec46-4dd5-af07-4e2711aae696",
   "metadata": {
    "tags": []
   },
   "source": [
    "# HW 10\n",
    "___"
   ]
  },
  {
   "cell_type": "markdown",
   "id": "9e62264c-54a9-4611-bf86-13c0e392d5df",
   "metadata": {},
   "source": [
    "### Driving Routes\n",
    "Your local gym is located $m$ blocks south and $n$ blocks east of your current location. In addition,\n",
    "\n",
    "* The streets in your town are arranged in a rectangular grid along the north-south and east-west directions.\n",
    "* You always travel south or east toward the gym, driving the minimum number of blocks.\n",
    "* One or more intersections in the grid may be blocked due to road maintenance projects. \n",
    "\n",
    "How many possible driving routes to the gym are there? Write a function **`driving_routes(m, n, blocked)`** that returns the number of possible routes to your destination where `blocked` is a list of `(i, j)` blocked intersections located $i$ blocks south and $j$ blocks east of your current location, $0 \\le i \\le m$, $0 \\le j \\le n$. **Use dynamic programming** to compute the answer. (Assume that the upper left and lower right intersections are not blocked.)\n",
    "\n",
    "Example:  \n",
    "`driving_routes(3, 5, [(0, 3), (2, 1)])` returns `31`. Shown below is one of the routes.\n",
    "\n",
    "<img src=\"http://www.coloradomath.org/python/car_to_gym.jpg\" width=\"349\" height=\"232\" />\n"
   ]
  },
  {
   "cell_type": "code",
   "execution_count": 1,
   "id": "88002579-85fb-4c2a-995e-89144beec092",
   "metadata": {},
   "outputs": [],
   "source": [
    "def driving_routes(m, n, blocked):\n",
    "    if m == 0 and n == 0:\n",
    "        return 1\n",
    "    elif m < 0 or n < 0:\n",
    "        return 0\n",
    "    elif (m,n) in blocked:\n",
    "        return 0\n",
    "    return driving_routes(m - 1,n,blocked) + driving_routes(m,n - 1,blocked)"
   ]
  },
  {
   "cell_type": "code",
   "execution_count": 2,
   "id": "fc0a8319",
   "metadata": {},
   "outputs": [
    {
     "data": {
      "text/plain": [
       "31"
      ]
     },
     "execution_count": 2,
     "metadata": {},
     "output_type": "execute_result"
    }
   ],
   "source": [
    "driving_routes(3, 5, [(0, 3), (2, 1)])"
   ]
  }
 ],
 "metadata": {
  "kernelspec": {
   "display_name": "Python 3",
   "language": "python",
   "name": "python3"
  },
  "language_info": {
   "codemirror_mode": {
    "name": "ipython",
    "version": 3
   },
   "file_extension": ".py",
   "mimetype": "text/x-python",
   "name": "python",
   "nbconvert_exporter": "python",
   "pygments_lexer": "ipython3",
   "version": "3.8.8"
  }
 },
 "nbformat": 4,
 "nbformat_minor": 5
}
