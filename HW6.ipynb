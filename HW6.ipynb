{
 "cells": [
  {
   "cell_type": "markdown",
   "id": "655702e7-9f91-4c67-b7a2-b263c82ab5ff",
   "metadata": {
    "tags": []
   },
   "source": [
    "# HW 6\n",
    "___"
   ]
  },
  {
   "cell_type": "markdown",
   "id": "dc1c4fa5-ece0-481c-ac03-6f14f5948075",
   "metadata": {},
   "source": [
    "### Hash Function\n",
    "Write a function **`cu_hash(identikey, modulus)`** that takes a CU Identikey in the form of a string and returns its hash value. Assume that the `identikey` string consists of 4 lower-case letters followed by 4 digits. The hash value is calculated as follows:\n",
    "* each letter in the Identikey is converted into Unicode by calling `ord()`.\n",
    "* the four `ord()` values are concatenated to the four digits in the Identikey to create a `hashnum`.\n",
    "* the function returns `hashnum % modulus` as the hash value.\n",
    "\n",
    "Example:<br>\n",
    "`cu_hash('pyth2022', 93)` returns `15` because `hashnum` equals `1121211161042022` and `hashnum % 93` equals `15`."
   ]
  },
  {
   "cell_type": "code",
   "execution_count": 1,
   "id": "00dae864-5618-40dc-a284-577f0b60eea9",
   "metadata": {},
   "outputs": [],
   "source": [
    "def cu_hash(identikey, modulus):\n",
    "    let = identikey[:4]\n",
    "    num = identikey[4:]\n",
    "    Hash = ''\n",
    "    for L in let:\n",
    "        Hash = Hash + str(ord(L))\n",
    "    hashnum = int(Hash + num)\n",
    "    return hashnum % modulus"
   ]
  },
  {
   "cell_type": "code",
   "execution_count": 2,
   "id": "042ef9b8",
   "metadata": {},
   "outputs": [
    {
     "data": {
      "text/plain": [
       "15"
      ]
     },
     "execution_count": 2,
     "metadata": {},
     "output_type": "execute_result"
    }
   ],
   "source": [
    "cu_hash('pyth2022', 93)"
   ]
  },
  {
   "cell_type": "markdown",
   "id": "0e7da545-6953-4202-b04f-d59bc7a76b3b",
   "metadata": {},
   "source": [
    "### Nodes\n",
    "Below is a class `Node` that will store a key and data, along with links to neighboring nodes in a `DLinkedList`. "
   ]
  },
  {
   "cell_type": "code",
   "execution_count": 3,
   "id": "d68b3204-ee20-4e26-b4f0-c0913c5f0275",
   "metadata": {},
   "outputs": [],
   "source": [
    "class Node:\n",
    "    def __init__(self, key, data):\n",
    "        self.key = key\n",
    "        self.data = data\n",
    "        self.prev = None\n",
    "        self.next = None"
   ]
  },
  {
   "cell_type": "markdown",
   "id": "87bd5046-93e8-498b-8b11-46b09aaf732a",
   "metadata": {},
   "source": [
    "### DLinkedList\n",
    "Use the `DLinkedList` class (defined in a previous assignment) with the  attribute:\n",
    "* **`head`** \n",
    "\n",
    "and the  methods:\n",
    "* **`insert`**, **`delete`**, **`search`**, **`keys`**."
   ]
  },
  {
   "cell_type": "code",
   "execution_count": 4,
   "id": "a06c99a9-672b-44e7-9fcd-7366dbd44296",
   "metadata": {},
   "outputs": [],
   "source": [
    "class DLinkedList:\n",
    "    def __init__(self):\n",
    "        self.head = None\n",
    "    def insert(self, node):\n",
    "        node.prev = None\n",
    "        node.next = self.head\n",
    "        if self.head != None:\n",
    "            self.head.prev = node\n",
    "        self.head = node\n",
    "    def delete(self, node):\n",
    "        if node.prev == None:\n",
    "            self.head = node.next\n",
    "        else:\n",
    "            node.prev.next = node.next\n",
    "        if node.next != None:\n",
    "            node.next.prev = node.prev\n",
    "    def search(self, value):\n",
    "        if self.head == None:\n",
    "            return None\n",
    "        else:\n",
    "            node = self.head\n",
    "            while node != None and node.key != value:\n",
    "                node = node.next\n",
    "            return node\n",
    "    def keys(self):\n",
    "        lst = []\n",
    "        node = self.head\n",
    "        while node != None:\n",
    "            lst.append(node.key)\n",
    "            node = node.next\n",
    "        return lst"
   ]
  },
  {
   "cell_type": "markdown",
   "id": "ee1dd1c2-daa2-4ac0-a49b-db3e4a56d275",
   "metadata": {
    "tags": []
   },
   "source": [
    "### CU Identikey Hash Table\n",
    "In order to make a hash table for CU student records, create a **`CUHashTable`** class with these attributes:\n",
    "* **`num_slots`**: number of slots in the table (passed as an argument)\n",
    "* **`slots`**: a list with `num_slots` elements initialized to `None`. Later these slots will be filled with `DLinkedList`s (defined in a previous assignment).\n",
    "\n",
    "and these methods:\n",
    "* **`insert(id, name)`**: takes a student's Identikey and name and does the following:\n",
    "  * Creates a new `Node` with the `key` and `data` attributes equal to the student Identikey and name, respectively.\n",
    "  * Calculates the table slot number for the Identikey by calling `cu_hash()` with `num_slots` as the modulus.\n",
    "  * If the associated table slot is empty, insert a new `DLinkedList` consisting of the new `Node`. \n",
    "  * If the associated table slot is already filled, insert the new `Node` to the head of the existing `DLinkedList`.\n",
    "* **`lookup(id)`**: takes an Identikey and returns the corresponding `Node`. If not found, return `None`.\n",
    "\n",
    "Example:\n",
    "```\n",
    "table = CUHashTable(93)\n",
    "table.insert('pyth2022', 'Guido Von Rossum')\n",
    "table.insert('buff8039', 'Ralphie')\n",
    "table.insert('macu1234', 'Marie Curie')\n",
    "```\n",
    "stores the first and third tuples in slot 15, and stores the second tuple in a different slot. Then\n",
    "```\n",
    "table.lookup('pyth2022').data\n",
    "```\n",
    "returns `'Guido Von Rossum'` and\n",
    "```\n",
    "table.lookup('abcd9999')\n",
    "```\n",
    "returns `None`."
   ]
  },
  {
   "cell_type": "code",
   "execution_count": 5,
   "id": "ffcc3f3a-08eb-48d8-a2d3-90b62336cea5",
   "metadata": {},
   "outputs": [],
   "source": [
    "class CUHashTable:\n",
    "    def __init__(self, n):\n",
    "        self.num_slots = n\n",
    "        self.slots = [None]*self.num_slots\n",
    "    def insert(self, id, name):\n",
    "        node = Node(id, name)\n",
    "        ts = cu_hash(id, self.num_slots)\n",
    "        if self.slots[ts] == None:\n",
    "            dl = DLinkedList()\n",
    "            dl.insert(node)\n",
    "            self.slots[ts] = dl\n",
    "        else:\n",
    "            self.slots[ts].insert(node)\n",
    "    def lookup(self, id):\n",
    "        i = 0\n",
    "        while i < self.num_slots:\n",
    "            if self.slots[i] != None and self.slots[i].search(id) != None and self.slots[i].search(id).key == id:\n",
    "                return self.slots[i].search(id)\n",
    "            else:\n",
    "                i += 1\n",
    "        return None"
   ]
  },
  {
   "cell_type": "code",
   "execution_count": 6,
   "id": "c166fc6c",
   "metadata": {},
   "outputs": [
    {
     "data": {
      "text/plain": [
       "'Guido Von Rossum'"
      ]
     },
     "execution_count": 6,
     "metadata": {},
     "output_type": "execute_result"
    }
   ],
   "source": [
    "table = CUHashTable(93)\n",
    "table.insert('pyth2022', 'Guido Von Rossum')\n",
    "table.insert('buff8039', 'Ralphie')\n",
    "table.insert('macu1234', 'Marie Curie')\n",
    "table.lookup('pyth2022').data"
   ]
  },
  {
   "cell_type": "markdown",
   "id": "26c9ac73-1eae-45a1-8a21-0fcf9a77da45",
   "metadata": {
    "tags": []
   },
   "source": [
    "### Free Ski Pass Giveaway\n",
    "\n",
    "A free ski pass will be awarded to a lucky CU student. Students who sign up for this free giveaway will be arranged in a line. Then every $k$th student will be eliminated, one at a time, until the lucky winner is left. For example, suppose $k=3$ and there are 10 students named A, B, ..., J. Then eliminating every 3rd student (with wraparound) produces this result with student D as the winner.\n",
    "```\n",
    "A B C D E F G H I J\n",
    "A B   D E   G H   J\n",
    "A     D E     H   J\n",
    "      D E         J\n",
    "      D           J\n",
    "      D                   \n",
    "```\n",
    "\n",
    "Write a function **`giveaway(participants, k)`** that takes a list of participant names, simulates this procedure for a positive integer `k`, and returns the name of the winner. The function should store the names as keys in a `DLinkedList`, then eliminate the participants by removing their corresponding nodes, one at a time.\n",
    "\n",
    "Example:<br>\n",
    "`giveaway(list('ABCDEFGHIJ'), 3)` returns `'D'`."
   ]
  },
  {
   "cell_type": "code",
   "execution_count": 7,
   "id": "47e95766",
   "metadata": {},
   "outputs": [],
   "source": [
    "def giveaway(participants, k):\n",
    "    dl = DLinkedList()\n",
    "    i = 0\n",
    "    for name in reversed(participants):\n",
    "        dl.insert(Node(name,i))\n",
    "        i += 1\n",
    "    start = dl.head\n",
    "    count = 1\n",
    "    while dl.head.next:\n",
    "        if not start.next:\n",
    "            newstart = dl.head\n",
    "        else:\n",
    "            newstart = start.next\n",
    "        if count == k:\n",
    "            dl.delete(start)\n",
    "            count = 0\n",
    "        start = newstart\n",
    "        count += 1\n",
    "    return dl.head.key"
   ]
  },
  {
   "cell_type": "code",
   "execution_count": 9,
   "id": "82d5b2b9",
   "metadata": {},
   "outputs": [
    {
     "data": {
      "text/plain": [
       "'D'"
      ]
     },
     "execution_count": 9,
     "metadata": {},
     "output_type": "execute_result"
    }
   ],
   "source": [
    "giveaway(list('ABCDEFGHIJ'), 3)"
   ]
  },
  {
   "cell_type": "markdown",
   "id": "e9e89338-6c73-48e9-9a8a-deba3b16c3bf",
   "metadata": {},
   "source": [
    "Read in the file **`giveaway_names.txt`** which contains the names of 100 participants, one name on each line. Store the names in a list called **`participant_names`**. Then run `giveaway(participant_names, 7)`."
   ]
  },
  {
   "cell_type": "code",
   "execution_count": 10,
   "id": "e8e64eaf",
   "metadata": {},
   "outputs": [
    {
     "data": {
      "text/plain": [
       "'Lennox'"
      ]
     },
     "execution_count": 10,
     "metadata": {},
     "output_type": "execute_result"
    }
   ],
   "source": [
    "with open('giveaway_names.txt','r') as File:\n",
    "    participant_names = File.read().splitlines()\n",
    "giveaway(participant_names, 7)"
   ]
  }
 ],
 "metadata": {
  "kernelspec": {
   "display_name": "Python 3",
   "language": "python",
   "name": "python3"
  },
  "language_info": {
   "codemirror_mode": {
    "name": "ipython",
    "version": 3
   },
   "file_extension": ".py",
   "mimetype": "text/x-python",
   "name": "python",
   "nbconvert_exporter": "python",
   "pygments_lexer": "ipython3",
   "version": "3.8.8"
  }
 },
 "nbformat": 4,
 "nbformat_minor": 5
}
